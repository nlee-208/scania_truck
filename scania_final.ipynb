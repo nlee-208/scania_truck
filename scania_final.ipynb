{
  "nbformat": 4,
  "nbformat_minor": 0,
  "metadata": {
    "colab": {
      "name": "scania_final.ipynb",
      "provenance": [],
      "collapsed_sections": []
    },
    "kernelspec": {
      "name": "python3",
      "display_name": "Python 3"
    }
  },
  "cells": [
    {
      "cell_type": "code",
      "metadata": {
        "id": "WqoU5udrwuEs"
      },
      "source": [
        "# pip install -U imbalanced-learn"
      ],
      "execution_count": null,
      "outputs": []
    },
    {
      "cell_type": "code",
      "metadata": {
        "id": "WzOpd-ROG4qA"
      },
      "source": [
        "# pip install lightgbm"
      ],
      "execution_count": null,
      "outputs": []
    },
    {
      "cell_type": "code",
      "metadata": {
        "colab": {
          "base_uri": "https://localhost:8080/"
        },
        "id": "JpGil_hywzFy",
        "outputId": "a9138c8d-9811-4abf-aaa9-1c0f438f6ad1"
      },
      "source": [
        "# Importing packages\n",
        "\n",
        "# Preprocessing\n",
        "from sklearn.preprocessing import StandardScaler\n",
        "from imblearn.over_sampling import SMOTE, ADASYN, KMeansSMOTE, BorderlineSMOTE\n",
        "from sklearn.experimental import enable_iterative_imputer #multistage imputation 위해서\n",
        "from sklearn.impute import SimpleImputer, KNNImputer, IterativeImputer\n",
        "from sklearn.preprocessing import LabelEncoder,StandardScaler\n",
        "from sklearn.decomposition import PCA\n",
        "\n",
        "\n",
        "# Model related\n",
        "from sklearn.linear_model import LogisticRegression\n",
        "from sklearn.tree import DecisionTreeClassifier, plot_tree\n",
        "from sklearn.ensemble import RandomForestClassifier\n",
        "import lightgbm\n",
        "from sklearn.model_selection import GridSearchCV, KFold, StratifiedKFold, train_test_split\n",
        "from sklearn.feature_selection import SelectKBest, f_classif\n",
        "\n",
        "# Others/misc\n",
        "import pandas as pd\n",
        "import numpy as np\n",
        "import plotly.express as px\n",
        "import matplotlib.pyplot as plt\n",
        "import seaborn as sns\n",
        "%matplotlib inline\n",
        "import sklearn\n",
        "import imblearn\n",
        "from collections import Counter\n",
        "from sklearn.datasets import make_classification\n",
        "from sklearn.metrics import confusion_matrix, accuracy_score, precision_score, recall_score, f1_score, roc_auc_score,precision_recall_curve,plot_confusion_matrix\n",
        "\n",
        "\n",
        "print('Sklearn version:',sklearn.__version__)\n",
        "print('Pandas version:',pd.__version__)\n",
        "print('Imblearn version:',imblearn.__version__)"
      ],
      "execution_count": null,
      "outputs": [
        {
          "output_type": "stream",
          "text": [
            "Sklearn version: 0.23.2\n",
            "Pandas version: 1.1.5\n",
            "Imblearn version: 0.7.0\n"
          ],
          "name": "stdout"
        }
      ]
    },
    {
      "cell_type": "code",
      "metadata": {
        "id": "h-LKo-tP_lFu"
      },
      "source": [
        "cd ./drive/My Drive/KUBIG/scania"
      ],
      "execution_count": null,
      "outputs": []
    },
    {
      "cell_type": "code",
      "metadata": {
        "colab": {
          "base_uri": "https://localhost:8080/",
          "height": 216
        },
        "id": "u4edBN-_wzIa",
        "outputId": "129882c5-9b6b-4c42-c6c2-cb44e5099d57"
      },
      "source": [
        "df = pd.read_csv('train.csv')\n",
        "print('Dimension of dataset:',df.shape)\n",
        "df.iloc[:5,:10]"
      ],
      "execution_count": null,
      "outputs": [
        {
          "output_type": "stream",
          "text": [
            "Dimension of dataset: (60000, 171)\n"
          ],
          "name": "stdout"
        },
        {
          "output_type": "execute_result",
          "data": {
            "text/html": [
              "<div>\n",
              "<style scoped>\n",
              "    .dataframe tbody tr th:only-of-type {\n",
              "        vertical-align: middle;\n",
              "    }\n",
              "\n",
              "    .dataframe tbody tr th {\n",
              "        vertical-align: top;\n",
              "    }\n",
              "\n",
              "    .dataframe thead th {\n",
              "        text-align: right;\n",
              "    }\n",
              "</style>\n",
              "<table border=\"1\" class=\"dataframe\">\n",
              "  <thead>\n",
              "    <tr style=\"text-align: right;\">\n",
              "      <th></th>\n",
              "      <th>class</th>\n",
              "      <th>aa_000</th>\n",
              "      <th>ab_000</th>\n",
              "      <th>ac_000</th>\n",
              "      <th>ad_000</th>\n",
              "      <th>ae_000</th>\n",
              "      <th>af_000</th>\n",
              "      <th>ag_000</th>\n",
              "      <th>ag_001</th>\n",
              "      <th>ag_002</th>\n",
              "    </tr>\n",
              "  </thead>\n",
              "  <tbody>\n",
              "    <tr>\n",
              "      <th>0</th>\n",
              "      <td>neg</td>\n",
              "      <td>76698</td>\n",
              "      <td>na</td>\n",
              "      <td>2130706438</td>\n",
              "      <td>280</td>\n",
              "      <td>0</td>\n",
              "      <td>0</td>\n",
              "      <td>0</td>\n",
              "      <td>0</td>\n",
              "      <td>0</td>\n",
              "    </tr>\n",
              "    <tr>\n",
              "      <th>1</th>\n",
              "      <td>neg</td>\n",
              "      <td>33058</td>\n",
              "      <td>na</td>\n",
              "      <td>0</td>\n",
              "      <td>na</td>\n",
              "      <td>0</td>\n",
              "      <td>0</td>\n",
              "      <td>0</td>\n",
              "      <td>0</td>\n",
              "      <td>0</td>\n",
              "    </tr>\n",
              "    <tr>\n",
              "      <th>2</th>\n",
              "      <td>neg</td>\n",
              "      <td>41040</td>\n",
              "      <td>na</td>\n",
              "      <td>228</td>\n",
              "      <td>100</td>\n",
              "      <td>0</td>\n",
              "      <td>0</td>\n",
              "      <td>0</td>\n",
              "      <td>0</td>\n",
              "      <td>0</td>\n",
              "    </tr>\n",
              "    <tr>\n",
              "      <th>3</th>\n",
              "      <td>neg</td>\n",
              "      <td>12</td>\n",
              "      <td>0</td>\n",
              "      <td>70</td>\n",
              "      <td>66</td>\n",
              "      <td>0</td>\n",
              "      <td>10</td>\n",
              "      <td>0</td>\n",
              "      <td>0</td>\n",
              "      <td>0</td>\n",
              "    </tr>\n",
              "    <tr>\n",
              "      <th>4</th>\n",
              "      <td>neg</td>\n",
              "      <td>60874</td>\n",
              "      <td>na</td>\n",
              "      <td>1368</td>\n",
              "      <td>458</td>\n",
              "      <td>0</td>\n",
              "      <td>0</td>\n",
              "      <td>0</td>\n",
              "      <td>0</td>\n",
              "      <td>0</td>\n",
              "    </tr>\n",
              "  </tbody>\n",
              "</table>\n",
              "</div>"
            ],
            "text/plain": [
              "  class  aa_000 ab_000      ac_000 ad_000 ae_000 af_000 ag_000 ag_001 ag_002\n",
              "0   neg   76698     na  2130706438    280      0      0      0      0      0\n",
              "1   neg   33058     na           0     na      0      0      0      0      0\n",
              "2   neg   41040     na         228    100      0      0      0      0      0\n",
              "3   neg      12      0          70     66      0     10      0      0      0\n",
              "4   neg   60874     na        1368    458      0      0      0      0      0"
            ]
          },
          "metadata": {
            "tags": []
          },
          "execution_count": 7
        }
      ]
    },
    {
      "cell_type": "code",
      "metadata": {
        "id": "VDm33VEwwzLa",
        "colab": {
          "base_uri": "https://localhost:8080/"
        },
        "outputId": "1ed93591-0303-45ee-f4dc-492b2ea8b7af"
      },
      "source": [
        "df.groupby('class').count().iloc[:,1]\n",
        "# Imbalanced: neg:pos = 59:1"
      ],
      "execution_count": null,
      "outputs": [
        {
          "output_type": "execute_result",
          "data": {
            "text/plain": [
              "class\n",
              "neg    59000\n",
              "pos     1000\n",
              "Name: ab_000, dtype: int64"
            ]
          },
          "metadata": {
            "tags": []
          },
          "execution_count": 12
        }
      ]
    },
    {
      "cell_type": "code",
      "metadata": {
        "id": "Ch9Md-F6wzN8",
        "colab": {
          "base_uri": "https://localhost:8080/"
        },
        "outputId": "4b258c3f-3bf7-4979-8f34-4a5d58328f1f"
      },
      "source": [
        "df.dtypes.unique()\n",
        "# object, int64 only"
      ],
      "execution_count": null,
      "outputs": [
        {
          "output_type": "execute_result",
          "data": {
            "text/plain": [
              "array([dtype('O'), dtype('int64')], dtype=object)"
            ]
          },
          "metadata": {
            "tags": []
          },
          "execution_count": 13
        }
      ]
    },
    {
      "cell_type": "code",
      "metadata": {
        "id": "Bp-jQEI0wzQv",
        "colab": {
          "base_uri": "https://localhost:8080/"
        },
        "outputId": "3ef879d7-3405-4269-c095-2de9036a18d1"
      },
      "source": [
        "df.dtypes.value_counts()"
      ],
      "execution_count": null,
      "outputs": [
        {
          "output_type": "execute_result",
          "data": {
            "text/plain": [
              "object    170\n",
              "int64       1\n",
              "dtype: int64"
            ]
          },
          "metadata": {
            "tags": []
          },
          "execution_count": 14
        }
      ]
    },
    {
      "cell_type": "code",
      "metadata": {
        "id": "zIrIcCnYwzTS",
        "colab": {
          "base_uri": "https://localhost:8080/"
        },
        "outputId": "f50368fd-0113-49af-d88a-0b4091b67e57"
      },
      "source": [
        "# 결측치 비율 확인 \n",
        "def miss(x):\n",
        "    return(x.isnull().sum()/x.shape[0]*100).sort_values()\n",
        "\n",
        "miss(df)"
      ],
      "execution_count": null,
      "outputs": [
        {
          "output_type": "execute_result",
          "data": {
            "text/plain": [
              "class     0.0\n",
              "cn_009    0.0\n",
              "co_000    0.0\n",
              "cp_000    0.0\n",
              "cq_000    0.0\n",
              "         ... \n",
              "ba_006    0.0\n",
              "ba_007    0.0\n",
              "ba_008    0.0\n",
              "ba_000    0.0\n",
              "eg_000    0.0\n",
              "Length: 171, dtype: float64"
            ]
          },
          "metadata": {
            "tags": []
          },
          "execution_count": 15
        }
      ]
    },
    {
      "cell_type": "code",
      "metadata": {
        "id": "gbldFY_7wzYu"
      },
      "source": [
        ""
      ],
      "execution_count": null,
      "outputs": []
    },
    {
      "cell_type": "markdown",
      "metadata": {
        "id": "PKxOMD5qxYqt"
      },
      "source": [
        "## 결측치 처리\n",
        "1. 결측치 비율 20퍼 이상 컬럼 제거\n",
        "2. 20퍼 이하\n",
        "   - KNN Impute\n",
        "   - MICE\n",
        "   - SMOTE(KNN기반)\n",
        "   - 단순대체(mean,median,mode)\n",
        "\n",
        "### 불균형 자료 처리\n",
        "-  SMOTE(KNN 기반)\n",
        "- ADASYN(KNN 기반 + 비례추출)\n",
        "- Complex sampling(Over + Under)\n",
        "\n",
        "차원축소 or 피쳐 선택"
      ]
    },
    {
      "cell_type": "code",
      "metadata": {
        "id": "aEIbfVP1wzc6"
      },
      "source": [
        "df1 = df.copy()"
      ],
      "execution_count": null,
      "outputs": []
    },
    {
      "cell_type": "markdown",
      "metadata": {
        "id": "h4sknqa3xdmI"
      },
      "source": [
        "## Missing Data\n",
        "1. Missing Completely at Random (MCAR)\n",
        "- 'Missing' link is independent of observed & unobserved (no systematic differences)\n",
        "- Missingness unrelated to each variables (unrealisticallly strong)\n",
        "\n",
        "2. Missing at Random (MAR)\n",
        "- Missingness not random but can be fully counted for by complete variables\n",
        "- Impossible to statistically verify reasonableness needed to classify\n",
        "\n",
        "3. Missing not at Random (MNAR)\n",
        "- non-ignorable nonresponse\n",
        "- Missingness related to the reason of its missing\n",
        "\n",
        "\n",
        "=> assume MAR/MCAR for MICE\n"
      ]
    },
    {
      "cell_type": "code",
      "metadata": {
        "id": "6TaLihZ-wzeT",
        "colab": {
          "base_uri": "https://localhost:8080/"
        },
        "outputId": "670e0df4-8865-449d-fbf4-5b6cf3791606"
      },
      "source": [
        "df1 = df1.replace(to_replace='nan', value = np.NAN).replace(to_replace='na', value = np.NAN)\n",
        "sum(miss(df1)>0)"
      ],
      "execution_count": null,
      "outputs": [
        {
          "output_type": "execute_result",
          "data": {
            "text/plain": [
              "169"
            ]
          },
          "metadata": {
            "tags": []
          },
          "execution_count": 72
        }
      ]
    },
    {
      "cell_type": "code",
      "metadata": {
        "colab": {
          "base_uri": "https://localhost:8080/",
          "height": 422
        },
        "id": "AX9ndNu3YY0G",
        "outputId": "a3d489be-5cb8-4926-cd32-e9c2c92adff8"
      },
      "source": [
        "miss_val_lst=list(df1.isna().sum())\n",
        "col = list(df1.columns)\n",
        "\n",
        "plt.figure(figsize=(10,6))\n",
        "plt.bar([i for i in range(df1.shape[1])],[(i*100)/df1.shape[0] for i in miss_val_lst], color = 'r')\n",
        "plt.title('Missing proportion by column(%)')\n",
        "plt.xlabel('Columnn')\n",
        "plt.ylabel('% of Missing')"
      ],
      "execution_count": null,
      "outputs": [
        {
          "output_type": "execute_result",
          "data": {
            "text/plain": [
              "Text(0, 0.5, '% of Missing')"
            ]
          },
          "metadata": {
            "tags": []
          },
          "execution_count": 74
        },
        {
          "output_type": "display_data",
          "data": {
            "image/png": "[encoded data removed]",
            "text/plain": [
              "<Figure size 720x432 with 1 Axes>"
            ]
          },
          "metadata": {
            "tags": [],
            "needs_background": "light"
          }
        }
      ]
    },
    {
      "cell_type": "code",
      "metadata": {
        "id": "WTJp3wW1wziT",
        "colab": {
          "base_uri": "https://localhost:8080/",
          "height": 164
        },
        "outputId": "9d0ec04b-ca77-434d-c3f7-1cfd49e95ae4"
      },
      "source": [
        "# 결측치 비율 확인 \n",
        "over_20 = df1.columns[miss(df1) > 20]\n",
        "print(len(over_20))\n",
        "df1 = df1.drop(over_20, axis = 1)\n",
        "print(sum(miss(df1)>0))\n",
        "df1.head(1)"
      ],
      "execution_count": null,
      "outputs": [
        {
          "output_type": "stream",
          "text": [
            "24\n",
            "145\n"
          ],
          "name": "stdout"
        },
        {
          "output_type": "execute_result",
          "data": {
            "text/html": [
              "<div>\n",
              "<style scoped>\n",
              "    .dataframe tbody tr th:only-of-type {\n",
              "        vertical-align: middle;\n",
              "    }\n",
              "\n",
              "    .dataframe tbody tr th {\n",
              "        vertical-align: top;\n",
              "    }\n",
              "\n",
              "    .dataframe thead th {\n",
              "        text-align: right;\n",
              "    }\n",
              "</style>\n",
              "<table border=\"1\" class=\"dataframe\">\n",
              "  <thead>\n",
              "    <tr style=\"text-align: right;\">\n",
              "      <th></th>\n",
              "      <th>class</th>\n",
              "      <th>aa_000</th>\n",
              "      <th>ab_000</th>\n",
              "      <th>ac_000</th>\n",
              "      <th>ad_000</th>\n",
              "      <th>ae_000</th>\n",
              "      <th>af_000</th>\n",
              "      <th>ag_000</th>\n",
              "      <th>ag_001</th>\n",
              "      <th>ag_002</th>\n",
              "      <th>ag_003</th>\n",
              "      <th>ag_004</th>\n",
              "      <th>ag_005</th>\n",
              "      <th>ag_006</th>\n",
              "      <th>ag_007</th>\n",
              "      <th>ag_008</th>\n",
              "      <th>ag_009</th>\n",
              "      <th>ah_000</th>\n",
              "      <th>ai_000</th>\n",
              "      <th>aj_000</th>\n",
              "      <th>ak_000</th>\n",
              "      <th>al_000</th>\n",
              "      <th>am_0</th>\n",
              "      <th>an_000</th>\n",
              "      <th>ao_000</th>\n",
              "      <th>ap_000</th>\n",
              "      <th>aq_000</th>\n",
              "      <th>ar_000</th>\n",
              "      <th>as_000</th>\n",
              "      <th>at_000</th>\n",
              "      <th>au_000</th>\n",
              "      <th>av_000</th>\n",
              "      <th>ax_000</th>\n",
              "      <th>ay_000</th>\n",
              "      <th>ay_001</th>\n",
              "      <th>ay_002</th>\n",
              "      <th>ay_003</th>\n",
              "      <th>ay_004</th>\n",
              "      <th>ay_005</th>\n",
              "      <th>ay_006</th>\n",
              "      <th>...</th>\n",
              "      <th>cn_007</th>\n",
              "      <th>cn_008</th>\n",
              "      <th>cn_009</th>\n",
              "      <th>co_000</th>\n",
              "      <th>cp_000</th>\n",
              "      <th>cq_000</th>\n",
              "      <th>cr_000</th>\n",
              "      <th>cs_000</th>\n",
              "      <th>cs_001</th>\n",
              "      <th>cs_002</th>\n",
              "      <th>cs_003</th>\n",
              "      <th>cs_004</th>\n",
              "      <th>cs_005</th>\n",
              "      <th>cs_006</th>\n",
              "      <th>cs_007</th>\n",
              "      <th>cs_008</th>\n",
              "      <th>cs_009</th>\n",
              "      <th>ct_000</th>\n",
              "      <th>cu_000</th>\n",
              "      <th>cv_000</th>\n",
              "      <th>cx_000</th>\n",
              "      <th>cy_000</th>\n",
              "      <th>cz_000</th>\n",
              "      <th>da_000</th>\n",
              "      <th>db_000</th>\n",
              "      <th>dc_000</th>\n",
              "      <th>dd_000</th>\n",
              "      <th>de_000</th>\n",
              "      <th>df_000</th>\n",
              "      <th>dg_000</th>\n",
              "      <th>dh_000</th>\n",
              "      <th>di_000</th>\n",
              "      <th>dj_000</th>\n",
              "      <th>dk_000</th>\n",
              "      <th>dl_000</th>\n",
              "      <th>dm_000</th>\n",
              "      <th>dn_000</th>\n",
              "      <th>do_000</th>\n",
              "      <th>dp_000</th>\n",
              "      <th>dq_000</th>\n",
              "    </tr>\n",
              "  </thead>\n",
              "  <tbody>\n",
              "    <tr>\n",
              "      <th>0</th>\n",
              "      <td>neg</td>\n",
              "      <td>76698</td>\n",
              "      <td>NaN</td>\n",
              "      <td>2130706438</td>\n",
              "      <td>280</td>\n",
              "      <td>0</td>\n",
              "      <td>0</td>\n",
              "      <td>0</td>\n",
              "      <td>0</td>\n",
              "      <td>0</td>\n",
              "      <td>0</td>\n",
              "      <td>37250</td>\n",
              "      <td>1432864</td>\n",
              "      <td>3664156</td>\n",
              "      <td>1007684</td>\n",
              "      <td>25896</td>\n",
              "      <td>0</td>\n",
              "      <td>2551696</td>\n",
              "      <td>0</td>\n",
              "      <td>0</td>\n",
              "      <td>0</td>\n",
              "      <td>0</td>\n",
              "      <td>0</td>\n",
              "      <td>4933296</td>\n",
              "      <td>3655166</td>\n",
              "      <td>1766008</td>\n",
              "      <td>1132040</td>\n",
              "      <td>0</td>\n",
              "      <td>0</td>\n",
              "      <td>0</td>\n",
              "      <td>0</td>\n",
              "      <td>1012</td>\n",
              "      <td>268</td>\n",
              "      <td>0</td>\n",
              "      <td>0</td>\n",
              "      <td>0</td>\n",
              "      <td>0</td>\n",
              "      <td>0</td>\n",
              "      <td>469014</td>\n",
              "      <td>4239660</td>\n",
              "      <td>...</td>\n",
              "      <td>98822</td>\n",
              "      <td>11208</td>\n",
              "      <td>1608</td>\n",
              "      <td>220</td>\n",
              "      <td>240</td>\n",
              "      <td>6700214</td>\n",
              "      <td>NaN</td>\n",
              "      <td>10476</td>\n",
              "      <td>1226</td>\n",
              "      <td>267998</td>\n",
              "      <td>521832</td>\n",
              "      <td>428776</td>\n",
              "      <td>4015854</td>\n",
              "      <td>895240</td>\n",
              "      <td>26330</td>\n",
              "      <td>118</td>\n",
              "      <td>0</td>\n",
              "      <td>532</td>\n",
              "      <td>734</td>\n",
              "      <td>4122704</td>\n",
              "      <td>51288</td>\n",
              "      <td>0</td>\n",
              "      <td>532572</td>\n",
              "      <td>0</td>\n",
              "      <td>18</td>\n",
              "      <td>5330690</td>\n",
              "      <td>4732</td>\n",
              "      <td>1126</td>\n",
              "      <td>0</td>\n",
              "      <td>0</td>\n",
              "      <td>0</td>\n",
              "      <td>0</td>\n",
              "      <td>0</td>\n",
              "      <td>0</td>\n",
              "      <td>0</td>\n",
              "      <td>0</td>\n",
              "      <td>62282</td>\n",
              "      <td>85908</td>\n",
              "      <td>32790</td>\n",
              "      <td>0</td>\n",
              "    </tr>\n",
              "  </tbody>\n",
              "</table>\n",
              "<p>1 rows × 147 columns</p>\n",
              "</div>"
            ],
            "text/plain": [
              "  class  aa_000 ab_000      ac_000 ad_000  ... dm_000 dn_000 do_000 dp_000 dq_000\n",
              "0   neg   76698    NaN  2130706438    280  ...      0  62282  85908  32790      0\n",
              "\n",
              "[1 rows x 147 columns]"
            ]
          },
          "metadata": {
            "tags": []
          },
          "execution_count": 19
        }
      ]
    },
    {
      "cell_type": "code",
      "metadata": {
        "id": "VPQZU9awxgz-",
        "colab": {
          "base_uri": "https://localhost:8080/",
          "height": 187
        },
        "outputId": "8479ba4b-08e6-4cc3-e486-47d454289ac4"
      },
      "source": [
        "Le = LabelEncoder()\n",
        "Le.fit(df1['class'])\n",
        "df1['class'] = Le.transform(df1['class'])\n",
        "df1.groupby('class').count()"
      ],
      "execution_count": null,
      "outputs": [
        {
          "output_type": "execute_result",
          "data": {
            "text/html": [
              "<div>\n",
              "<style scoped>\n",
              "    .dataframe tbody tr th:only-of-type {\n",
              "        vertical-align: middle;\n",
              "    }\n",
              "\n",
              "    .dataframe tbody tr th {\n",
              "        vertical-align: top;\n",
              "    }\n",
              "\n",
              "    .dataframe thead th {\n",
              "        text-align: right;\n",
              "    }\n",
              "</style>\n",
              "<table border=\"1\" class=\"dataframe\">\n",
              "  <thead>\n",
              "    <tr style=\"text-align: right;\">\n",
              "      <th></th>\n",
              "      <th>aa_000</th>\n",
              "      <th>ab_000</th>\n",
              "      <th>ac_000</th>\n",
              "      <th>ad_000</th>\n",
              "      <th>ae_000</th>\n",
              "      <th>af_000</th>\n",
              "      <th>ag_000</th>\n",
              "      <th>ag_001</th>\n",
              "      <th>ag_002</th>\n",
              "      <th>ag_003</th>\n",
              "      <th>ag_004</th>\n",
              "      <th>ag_005</th>\n",
              "      <th>ag_006</th>\n",
              "      <th>ag_007</th>\n",
              "      <th>ag_008</th>\n",
              "      <th>ag_009</th>\n",
              "      <th>ah_000</th>\n",
              "      <th>ai_000</th>\n",
              "      <th>aj_000</th>\n",
              "      <th>ak_000</th>\n",
              "      <th>al_000</th>\n",
              "      <th>am_0</th>\n",
              "      <th>an_000</th>\n",
              "      <th>ao_000</th>\n",
              "      <th>ap_000</th>\n",
              "      <th>aq_000</th>\n",
              "      <th>ar_000</th>\n",
              "      <th>as_000</th>\n",
              "      <th>at_000</th>\n",
              "      <th>au_000</th>\n",
              "      <th>av_000</th>\n",
              "      <th>ax_000</th>\n",
              "      <th>ay_000</th>\n",
              "      <th>ay_001</th>\n",
              "      <th>ay_002</th>\n",
              "      <th>ay_003</th>\n",
              "      <th>ay_004</th>\n",
              "      <th>ay_005</th>\n",
              "      <th>ay_006</th>\n",
              "      <th>ay_007</th>\n",
              "      <th>...</th>\n",
              "      <th>cn_007</th>\n",
              "      <th>cn_008</th>\n",
              "      <th>cn_009</th>\n",
              "      <th>co_000</th>\n",
              "      <th>cp_000</th>\n",
              "      <th>cq_000</th>\n",
              "      <th>cr_000</th>\n",
              "      <th>cs_000</th>\n",
              "      <th>cs_001</th>\n",
              "      <th>cs_002</th>\n",
              "      <th>cs_003</th>\n",
              "      <th>cs_004</th>\n",
              "      <th>cs_005</th>\n",
              "      <th>cs_006</th>\n",
              "      <th>cs_007</th>\n",
              "      <th>cs_008</th>\n",
              "      <th>cs_009</th>\n",
              "      <th>ct_000</th>\n",
              "      <th>cu_000</th>\n",
              "      <th>cv_000</th>\n",
              "      <th>cx_000</th>\n",
              "      <th>cy_000</th>\n",
              "      <th>cz_000</th>\n",
              "      <th>da_000</th>\n",
              "      <th>db_000</th>\n",
              "      <th>dc_000</th>\n",
              "      <th>dd_000</th>\n",
              "      <th>de_000</th>\n",
              "      <th>df_000</th>\n",
              "      <th>dg_000</th>\n",
              "      <th>dh_000</th>\n",
              "      <th>di_000</th>\n",
              "      <th>dj_000</th>\n",
              "      <th>dk_000</th>\n",
              "      <th>dl_000</th>\n",
              "      <th>dm_000</th>\n",
              "      <th>dn_000</th>\n",
              "      <th>do_000</th>\n",
              "      <th>dp_000</th>\n",
              "      <th>dq_000</th>\n",
              "    </tr>\n",
              "    <tr>\n",
              "      <th>class</th>\n",
              "      <th></th>\n",
              "      <th></th>\n",
              "      <th></th>\n",
              "      <th></th>\n",
              "      <th></th>\n",
              "      <th></th>\n",
              "      <th></th>\n",
              "      <th></th>\n",
              "      <th></th>\n",
              "      <th></th>\n",
              "      <th></th>\n",
              "      <th></th>\n",
              "      <th></th>\n",
              "      <th></th>\n",
              "      <th></th>\n",
              "      <th></th>\n",
              "      <th></th>\n",
              "      <th></th>\n",
              "      <th></th>\n",
              "      <th></th>\n",
              "      <th></th>\n",
              "      <th></th>\n",
              "      <th></th>\n",
              "      <th></th>\n",
              "      <th></th>\n",
              "      <th></th>\n",
              "      <th></th>\n",
              "      <th></th>\n",
              "      <th></th>\n",
              "      <th></th>\n",
              "      <th></th>\n",
              "      <th></th>\n",
              "      <th></th>\n",
              "      <th></th>\n",
              "      <th></th>\n",
              "      <th></th>\n",
              "      <th></th>\n",
              "      <th></th>\n",
              "      <th></th>\n",
              "      <th></th>\n",
              "      <th></th>\n",
              "      <th></th>\n",
              "      <th></th>\n",
              "      <th></th>\n",
              "      <th></th>\n",
              "      <th></th>\n",
              "      <th></th>\n",
              "      <th></th>\n",
              "      <th></th>\n",
              "      <th></th>\n",
              "      <th></th>\n",
              "      <th></th>\n",
              "      <th></th>\n",
              "      <th></th>\n",
              "      <th></th>\n",
              "      <th></th>\n",
              "      <th></th>\n",
              "      <th></th>\n",
              "      <th></th>\n",
              "      <th></th>\n",
              "      <th></th>\n",
              "      <th></th>\n",
              "      <th></th>\n",
              "      <th></th>\n",
              "      <th></th>\n",
              "      <th></th>\n",
              "      <th></th>\n",
              "      <th></th>\n",
              "      <th></th>\n",
              "      <th></th>\n",
              "      <th></th>\n",
              "      <th></th>\n",
              "      <th></th>\n",
              "      <th></th>\n",
              "      <th></th>\n",
              "      <th></th>\n",
              "      <th></th>\n",
              "      <th></th>\n",
              "      <th></th>\n",
              "      <th></th>\n",
              "      <th></th>\n",
              "    </tr>\n",
              "  </thead>\n",
              "  <tbody>\n",
              "    <tr>\n",
              "      <th>0</th>\n",
              "      <td>59000</td>\n",
              "      <td>13442</td>\n",
              "      <td>56127</td>\n",
              "      <td>44784</td>\n",
              "      <td>56841</td>\n",
              "      <td>56841</td>\n",
              "      <td>58333</td>\n",
              "      <td>58333</td>\n",
              "      <td>58333</td>\n",
              "      <td>58333</td>\n",
              "      <td>58333</td>\n",
              "      <td>58333</td>\n",
              "      <td>58333</td>\n",
              "      <td>58333</td>\n",
              "      <td>58333</td>\n",
              "      <td>58333</td>\n",
              "      <td>58396</td>\n",
              "      <td>58413</td>\n",
              "      <td>58413</td>\n",
              "      <td>55132</td>\n",
              "      <td>58401</td>\n",
              "      <td>58413</td>\n",
              "      <td>58401</td>\n",
              "      <td>58451</td>\n",
              "      <td>58401</td>\n",
              "      <td>58451</td>\n",
              "      <td>56654</td>\n",
              "      <td>58413</td>\n",
              "      <td>58413</td>\n",
              "      <td>58413</td>\n",
              "      <td>56841</td>\n",
              "      <td>56840</td>\n",
              "      <td>58334</td>\n",
              "      <td>58334</td>\n",
              "      <td>58334</td>\n",
              "      <td>58334</td>\n",
              "      <td>58334</td>\n",
              "      <td>58334</td>\n",
              "      <td>58334</td>\n",
              "      <td>58334</td>\n",
              "      <td>...</td>\n",
              "      <td>58317</td>\n",
              "      <td>58317</td>\n",
              "      <td>58317</td>\n",
              "      <td>44784</td>\n",
              "      <td>56653</td>\n",
              "      <td>58351</td>\n",
              "      <td>13442</td>\n",
              "      <td>58335</td>\n",
              "      <td>58335</td>\n",
              "      <td>58335</td>\n",
              "      <td>58335</td>\n",
              "      <td>58335</td>\n",
              "      <td>58335</td>\n",
              "      <td>58335</td>\n",
              "      <td>58335</td>\n",
              "      <td>58335</td>\n",
              "      <td>58335</td>\n",
              "      <td>45724</td>\n",
              "      <td>45724</td>\n",
              "      <td>45724</td>\n",
              "      <td>45724</td>\n",
              "      <td>45724</td>\n",
              "      <td>45724</td>\n",
              "      <td>45724</td>\n",
              "      <td>45724</td>\n",
              "      <td>45724</td>\n",
              "      <td>56838</td>\n",
              "      <td>56653</td>\n",
              "      <td>55516</td>\n",
              "      <td>55516</td>\n",
              "      <td>55516</td>\n",
              "      <td>55518</td>\n",
              "      <td>55517</td>\n",
              "      <td>55517</td>\n",
              "      <td>55516</td>\n",
              "      <td>55515</td>\n",
              "      <td>58351</td>\n",
              "      <td>56653</td>\n",
              "      <td>56651</td>\n",
              "      <td>56651</td>\n",
              "    </tr>\n",
              "    <tr>\n",
              "      <th>1</th>\n",
              "      <td>1000</td>\n",
              "      <td>229</td>\n",
              "      <td>538</td>\n",
              "      <td>355</td>\n",
              "      <td>659</td>\n",
              "      <td>659</td>\n",
              "      <td>996</td>\n",
              "      <td>996</td>\n",
              "      <td>996</td>\n",
              "      <td>996</td>\n",
              "      <td>996</td>\n",
              "      <td>996</td>\n",
              "      <td>996</td>\n",
              "      <td>996</td>\n",
              "      <td>996</td>\n",
              "      <td>996</td>\n",
              "      <td>959</td>\n",
              "      <td>958</td>\n",
              "      <td>958</td>\n",
              "      <td>468</td>\n",
              "      <td>957</td>\n",
              "      <td>958</td>\n",
              "      <td>957</td>\n",
              "      <td>960</td>\n",
              "      <td>957</td>\n",
              "      <td>960</td>\n",
              "      <td>623</td>\n",
              "      <td>958</td>\n",
              "      <td>958</td>\n",
              "      <td>958</td>\n",
              "      <td>659</td>\n",
              "      <td>659</td>\n",
              "      <td>995</td>\n",
              "      <td>995</td>\n",
              "      <td>995</td>\n",
              "      <td>995</td>\n",
              "      <td>995</td>\n",
              "      <td>995</td>\n",
              "      <td>995</td>\n",
              "      <td>995</td>\n",
              "      <td>...</td>\n",
              "      <td>996</td>\n",
              "      <td>996</td>\n",
              "      <td>996</td>\n",
              "      <td>355</td>\n",
              "      <td>623</td>\n",
              "      <td>958</td>\n",
              "      <td>229</td>\n",
              "      <td>996</td>\n",
              "      <td>996</td>\n",
              "      <td>996</td>\n",
              "      <td>996</td>\n",
              "      <td>996</td>\n",
              "      <td>996</td>\n",
              "      <td>996</td>\n",
              "      <td>996</td>\n",
              "      <td>996</td>\n",
              "      <td>996</td>\n",
              "      <td>468</td>\n",
              "      <td>468</td>\n",
              "      <td>468</td>\n",
              "      <td>468</td>\n",
              "      <td>468</td>\n",
              "      <td>468</td>\n",
              "      <td>468</td>\n",
              "      <td>468</td>\n",
              "      <td>468</td>\n",
              "      <td>659</td>\n",
              "      <td>623</td>\n",
              "      <td>476</td>\n",
              "      <td>476</td>\n",
              "      <td>476</td>\n",
              "      <td>476</td>\n",
              "      <td>476</td>\n",
              "      <td>476</td>\n",
              "      <td>476</td>\n",
              "      <td>476</td>\n",
              "      <td>958</td>\n",
              "      <td>623</td>\n",
              "      <td>623</td>\n",
              "      <td>623</td>\n",
              "    </tr>\n",
              "  </tbody>\n",
              "</table>\n",
              "<p>2 rows × 146 columns</p>\n",
              "</div>"
            ],
            "text/plain": [
              "       aa_000  ab_000  ac_000  ad_000  ...  dn_000  do_000  dp_000  dq_000\n",
              "class                                  ...                                \n",
              "0       59000   13442   56127   44784  ...   58351   56653   56651   56651\n",
              "1        1000     229     538     355  ...     958     623     623     623\n",
              "\n",
              "[2 rows x 146 columns]"
            ]
          },
          "metadata": {
            "tags": []
          },
          "execution_count": 21
        }
      ]
    },
    {
      "cell_type": "code",
      "metadata": {
        "id": "UxxB78Fcxg2o"
      },
      "source": [
        "df1 = df1.apply(pd.to_numeric)\n",
        "df1.dtypes.value_counts()\n",
        "cols= df1.columns\n",
        "#수치형으로 다 전환"
      ],
      "execution_count": null,
      "outputs": []
    },
    {
      "cell_type": "code",
      "metadata": {
        "id": "p9_P2krOxg5t"
      },
      "source": [
        "df_now = df1.copy() # reset df\n",
        "\n",
        "# Defining Imputer\n",
        "Iter = IterativeImputer(random_state=1, initial_strategy = 'median')\n",
        "df_filled = pd.DataFrame(Iter.fit_transform(df_now), columns = cols)"
      ],
      "execution_count": null,
      "outputs": []
    },
    {
      "cell_type": "code",
      "metadata": {
        "id": "KHsahcjK9lkt"
      },
      "source": [
        "df_filled.to_csv('df_filled.csv')"
      ],
      "execution_count": null,
      "outputs": []
    },
    {
      "cell_type": "code",
      "metadata": {
        "id": "VFCmY2YgAUwt"
      },
      "source": [
        "df_filled = pd.read_csv('df_filled.csv')"
      ],
      "execution_count": null,
      "outputs": []
    },
    {
      "cell_type": "code",
      "metadata": {
        "id": "oW0st_2-xr0j",
        "colab": {
          "base_uri": "https://localhost:8080/"
        },
        "outputId": "5dc8658a-47d9-4e61-f602-bfeacd98bd7b"
      },
      "source": [
        "# Imbalanced with ADASYN\n",
        "X = df_filled.drop('class', axis = 1)\n",
        "y = df_filled['class']\n",
        "\n",
        "ada=ADASYN(random_state=42, n_neighbors = 5)\n",
        "X_ada,y_ada=ada.fit_resample(X,y)\n",
        "print('Resampled after ADASYN k =5', '%s' % Counter(y_ada))\n",
        "\n",
        "sc = StandardScaler()\n",
        "X_std = sc.fit_transform(X_ada)"
      ],
      "execution_count": null,
      "outputs": [
        {
          "output_type": "stream",
          "text": [
            "Resampled after ADASYN k =5 Counter({1.0: 59067, 0.0: 59000})\n"
          ],
          "name": "stdout"
        }
      ]
    },
    {
      "cell_type": "code",
      "metadata": {
        "colab": {
          "base_uri": "https://localhost:8080/",
          "height": 985
        },
        "id": "i5tqJwbVzEOv",
        "outputId": "889348fd-831b-4a5e-b9b6-792abaf6c3f8"
      },
      "source": [
        "# Explained variance ratio\n",
        "# 고유값, 고유벡터 구하기\n",
        "scov=np.cov(X_std.T)\n",
        "eigen_vals, eigen_vecs=np.linalg.eig(scov)\n",
        "print('Eigenvalues \\n%s' %eigen_vals)\n",
        "\n",
        "tot = sum(eigen_vals)\n",
        "var_exp = [(i / tot) for i in sorted(eigen_vals, reverse=True)]\n",
        "cum_var_exp = np.cumsum(var_exp)\n",
        "\n",
        "import matplotlib.pyplot as plt\n",
        "plt.bar(range(1,14), var_exp[:13], alpha=0.5, align='center',label='individual explained variance')\n",
        "plt.step(range(1,14), cum_var_exp[:13], where='mid',label='cumulative explained variance')\n",
        "plt.ylabel('Explained variance ratio')\n",
        "plt.xlabel('Principal component index')\n",
        "plt.title('Explained Variance of PCA')\n",
        "plt.legend(loc='best')\n",
        "plt.show()"
      ],
      "execution_count": null,
      "outputs": [
        {
          "output_type": "stream",
          "text": [
            "Eigenvalues \n",
            "[3.99322249e+01 9.69264413e+00 6.89838198e+00 5.32998099e+00\n",
            " 4.61510555e+00 3.36905138e+00 3.20332633e+00 3.00097489e+00\n",
            " 2.99996631e+00 2.70959589e+00 2.55864591e+00 2.12269790e+00\n",
            " 2.00518966e+00 1.97668772e+00 1.91806818e+00 1.71272241e+00\n",
            " 1.69873643e+00 1.64614540e+00 1.59266014e+00 1.55095765e+00\n",
            " 1.52126344e+00 1.48336877e+00 1.33138163e+00 1.27105591e+00\n",
            " 1.23338637e+00 1.20607757e+00 1.14406152e+00 1.12324671e+00\n",
            " 1.06889452e+00 1.04880785e+00 1.03396428e+00 1.01124995e+00\n",
            " 1.00389904e+00 9.57628988e-01 9.86590483e-01 9.99714181e-01\n",
            " 9.78993678e-01 9.27001388e-01 8.92537503e-01 9.46665422e-01\n",
            " 8.87321074e-01 8.62881651e-01 8.30096683e-01 8.00267609e-01\n",
            " 7.90473322e-01 7.54339273e-01 7.63558392e-01 7.21047610e-01\n",
            " 7.06738992e-01 6.69781197e-01 6.73820368e-01 6.38335728e-01\n",
            " 6.08409157e-01 5.70263460e-01 5.62982973e-01 5.12622553e-01\n",
            " 5.00206617e-01 4.74736034e-01 4.85701111e-01 4.43328906e-01\n",
            " 4.21445502e-01 4.19495524e-01 3.99825267e-01 3.86101734e-01\n",
            " 3.70946973e-01 3.48439820e-01 3.35129272e-01 3.25758617e-01\n",
            " 3.06780220e-01 2.92848471e-01 2.83095953e-01 2.74618507e-01\n",
            " 2.71278080e-01 2.57373883e-01 2.67932641e-01 2.39081120e-01\n",
            " 2.42936656e-01 2.30760455e-01 2.27569168e-01 2.05084638e-01\n",
            " 2.10282034e-01 2.12873452e-01 1.91964611e-01 1.86034918e-01\n",
            " 1.69282366e-01 1.82810749e-01 1.82449870e-01 1.60561294e-01\n",
            " 1.54983356e-01 1.53670737e-01 1.39256077e-01 1.43867588e-01\n",
            " 1.27946975e-01 1.23852677e-01 1.21247601e-01 1.13166876e-01\n",
            " 1.07362548e-01 1.02536704e-01 9.29226139e-02 9.40835077e-02\n",
            " 8.76199556e-02 8.07636182e-02 7.18473564e-02 6.74572564e-02\n",
            " 6.33542717e-02 6.04118097e-02 5.52691854e-02 4.84220965e-02\n",
            " 5.02734476e-02 4.13957362e-02 3.79472299e-02 3.45334886e-02\n",
            " 2.98063126e-02 2.66769831e-02 2.40789445e-02 2.19720398e-02\n",
            " 1.93377804e-02 1.63330465e-02 1.55653313e-02 1.36165152e-02\n",
            " 1.24251535e-02 1.14144752e-02 1.06231188e-02 4.36662018e-03\n",
            " 5.92421948e-03 6.51270413e-03 7.63069920e-03 1.00158521e-02\n",
            " 8.77952657e-03 8.48425131e-03 2.55629784e-03 2.37088263e-03\n",
            " 1.71882776e-03 1.03021505e-03 5.66498708e-04 1.89248538e-03\n",
            " 8.25194662e-05 2.68349665e-05 6.84357457e-06 1.39280805e-06\n",
            " 4.61180721e-08 1.19418626e-08 1.54753981e-08 1.41513985e-09\n",
            " 1.36786130e-12 4.57611541e-13 0.00000000e+00]\n"
          ],
          "name": "stdout"
        },
        {
          "output_type": "display_data",
          "data": {
            "image/png": "[encoded data removed]",
            "text/plain": [
              "<Figure size 432x288 with 1 Axes>"
            ]
          },
          "metadata": {
            "tags": [],
            "needs_background": "light"
          }
        }
      ]
    },
    {
      "cell_type": "code",
      "metadata": {
        "id": "SVHSIBF9xg8v"
      },
      "source": [
        "pca = PCA(n_components=5)\n",
        "X_fin = pca.fit_transform(X_std)\n",
        "\n",
        "X_train, X_test, y_train, y_test = train_test_split(X_fin, y_ada, test_size = 0.2, random_state = 42)"
      ],
      "execution_count": null,
      "outputs": []
    },
    {
      "cell_type": "code",
      "metadata": {
        "id": "ld4noYNaxhEc",
        "colab": {
          "base_uri": "https://localhost:8080/",
          "height": 370
        },
        "outputId": "b0099bc9-efff-4daf-804a-6559b1001ea1"
      },
      "source": [
        "#Logistic Regression\n",
        "lr = LogisticRegression(random_state = 1, max_iter = 1000, penalty = 'l2')\n",
        "param_range = [0.0001, 0.001, 0.01, 0.1, 1.0, 10.0, 100.0, 1000.0]\n",
        "param_grid = [{'C': param_range}]\n",
        "\n",
        "gs = GridSearchCV(estimator=lr, param_grid=param_grid, scoring='accuracy', cv=10)\n",
        "gs = gs.fit(X_train, y_train)\n",
        "\n",
        "print('For Logistic Regression:')\n",
        "print('GS Best score:',gs.best_score_)\n",
        "print('Best params:',gs.best_params_)\n",
        "\n",
        "clf = gs.best_estimator_\n",
        "clf.fit(X_train, y_train)\n",
        "print('Train accuracy:',clf.score(X_train,y_train))\n",
        "print('Test accuracy:',clf.score(X_test, y_test))\n",
        "\n",
        "plot_confusion_matrix(clf, X_test, y_test)\n",
        "plt.show()"
      ],
      "execution_count": null,
      "outputs": [
        {
          "output_type": "stream",
          "text": [
            "For Logistic Regression:\n",
            "GS Best score: 0.908494179447142\n",
            "Best params: {'C': 0.1}\n",
            "Train accuracy: 0.9086635681238288\n",
            "Test accuracy: 0.9102227492165664\n"
          ],
          "name": "stdout"
        },
        {
          "output_type": "display_data",
          "data": {
            "image/png": "[encoded data removed]",
            "text/plain": [
              "<Figure size 432x288 with 2 Axes>"
            ]
          },
          "metadata": {
            "tags": [],
            "needs_background": "light"
          }
        }
      ]
    },
    {
      "cell_type": "code",
      "metadata": {
        "colab": {
          "base_uri": "https://localhost:8080/",
          "height": 370
        },
        "id": "36yVrXKXEICK",
        "outputId": "3e295ca5-7ba9-45a0-b4f5-1312f26d4be8"
      },
      "source": [
        "#Decision Tree\n",
        "dt = DecisionTreeClassifier(random_state = 1)\n",
        "param_grid=[{'max_depth': [1, 2, 3, 4, 5, 6, 7,8,9,10, None]}]\n",
        "\n",
        "gs = GridSearchCV(estimator=dt, param_grid=param_grid, scoring='accuracy', cv=10)\n",
        "gs = gs.fit(X_train, y_train)\n",
        "\n",
        "print('For Decision Tree:')\n",
        "print('GS Best score:',gs.best_score_)\n",
        "print('Best params:',gs.best_params_)\n",
        "\n",
        "clf = gs.best_estimator_\n",
        "clf.fit(X_train, y_train)\n",
        "print('Train accuracy:',clf.score(X_train,y_train))\n",
        "print('Test accuracy:',clf.score(X_test, y_test))\n",
        "\n",
        "plot_confusion_matrix(clf, X_test, y_test)\n",
        "plt.show()"
      ],
      "execution_count": null,
      "outputs": [
        {
          "output_type": "stream",
          "text": [
            "For Decision Tree:\n",
            "GS Best score: 0.9701121249010984\n",
            "Best params: {'max_depth': None}\n",
            "Train accuracy: 1.0\n",
            "Test accuracy: 0.97065300245617\n"
          ],
          "name": "stdout"
        },
        {
          "output_type": "display_data",
          "data": {
            "image/png": "[encoded data removed]",
            "text/plain": [
              "<Figure size 432x288 with 2 Axes>"
            ]
          },
          "metadata": {
            "tags": [],
            "needs_background": "light"
          }
        }
      ]
    },
    {
      "cell_type": "code",
      "metadata": {
        "id": "EWQTNFhjduiU"
      },
      "source": [
        "# Classification Tree\n",
        "dtc = DecisionTreeClassifier(criterion='accuracy', max_depth=None, random_state=1)\n",
        "dtc.fit(X_train, y_train)\n",
        "y_train_pred = dtc.predict(X_train)  # Training accuracy\n",
        "y_test_pred = dtc.predict(X_test)    # Test accuracy"
      ],
      "execution_count": null,
      "outputs": []
    },
    {
      "cell_type": "code",
      "metadata": {
        "id": "G-BSfosfdwm-"
      },
      "source": [
        "tree.plot_tree(dtc.fit(X_train,y_train))"
      ],
      "execution_count": null,
      "outputs": []
    },
    {
      "cell_type": "code",
      "metadata": {
        "colab": {
          "base_uri": "https://localhost:8080/",
          "height": 370
        },
        "id": "7Z9Bq7LVFqhj",
        "outputId": "7c6b4192-3b33-4a29-97d0-bfb84da79085"
      },
      "source": [
        "#lightGBM\n",
        "param_grid = {\n",
        "    'n_estimators': [50, 100, 200],\n",
        "    'learning_rate': [0.01, 0.05, 0.1],\n",
        "    'num_leaves': [5, 10, 20, 30]\n",
        "}\n",
        "lgbm_ = lightgbm.LGBMClassifier(random_state=1,class_weight='balanced', n_jobs = 1)\n",
        "\n",
        "\n",
        "gs = GridSearchCV(estimator=lgbm_, param_grid=param_grid, scoring='accuracy', cv=10)\n",
        "gs = gs.fit(X_train, y_train)\n",
        "\n",
        "print('For lightGBM:')\n",
        "print('GS Best score:',gs.best_score_)\n",
        "print('Best params:',gs.best_params_)\n",
        "\n",
        "clf = gs.best_estimator_\n",
        "clf.fit(X_train, y_train)\n",
        "print('Train accuracy:',clf.score(X_train,y_train))\n",
        "print('Test accuracy:',clf.score(X_test, y_test))\n",
        "\n",
        "plot_confusion_matrix(clf, X_test, y_test)\n",
        "plt.show()"
      ],
      "execution_count": null,
      "outputs": [
        {
          "output_type": "stream",
          "text": [
            "For lightGBM:\n",
            "GS Best score: 0.9673276601544518\n",
            "Best params: {'learning_rate': 0.1, 'n_estimators': 200, 'num_leaves': 30}\n",
            "Train accuracy: 0.9738600150339323\n",
            "Test accuracy: 0.9672651816718896\n"
          ],
          "name": "stdout"
        },
        {
          "output_type": "display_data",
          "data": {
            "image/png": "[encoded data removed]",
            "text/plain": [
              "<Figure size 432x288 with 2 Axes>"
            ]
          },
          "metadata": {
            "tags": [],
            "needs_background": "light"
          }
        }
      ]
    },
    {
      "cell_type": "code",
      "metadata": {
        "id": "Jyjktn4hhoLf"
      },
      "source": [
        "clf = lightgbm.LGBMClassifier(random_state=1,class_weight='balanced', n_jobs = 1, learning_rate = 0.1, n_estimators=200, num_leaves = 30)"
      ],
      "execution_count": null,
      "outputs": []
    },
    {
      "cell_type": "code",
      "metadata": {
        "colab": {
          "base_uri": "https://localhost:8080/"
        },
        "id": "Ds_lkl0Mbr9W",
        "outputId": "773d53af-dea4-4fc4-b8a2-3497455d5baf"
      },
      "source": [
        "clf.fit(X_train, y_train)\n",
        "clf.feature_importances_"
      ],
      "execution_count": null,
      "outputs": [
        {
          "output_type": "execute_result",
          "data": {
            "text/plain": [
              "array([1299, 1086, 1141, 1156, 1118])"
            ]
          },
          "metadata": {
            "tags": []
          },
          "execution_count": 88
        }
      ]
    },
    {
      "cell_type": "code",
      "metadata": {
        "colab": {
          "base_uri": "https://localhost:8080/",
          "height": 433
        },
        "id": "WJCsRwi2i3GG",
        "outputId": "9c2be865-6842-422d-c0f0-a2daee026709"
      },
      "source": [
        "feature_imp = pd.DataFrame(sorted(zip(clf.feature_importances_,df_filled.columns[2:])), columns=['Value','Feature'])\n",
        "\n",
        "plt.figure(figsize=(20, 10))\n",
        "sns.barplot(x=\"Value\", y=\"Feature\", data=feature_imp.sort_values(by=\"Value\", ascending=False))\n",
        "plt.title('LightGBM Features)')\n",
        "plt.show()"
      ],
      "execution_count": null,
      "outputs": [
        {
          "output_type": "display_data",
          "data": {
            "image/png": "[encoded data removed]",
            "text/plain": [
              "<Figure size 1440x720 with 1 Axes>"
            ]
          },
          "metadata": {
            "tags": [],
            "needs_background": "light"
          }
        }
      ]
    }
  ]
}